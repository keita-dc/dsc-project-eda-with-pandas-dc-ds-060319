{
 "cells": [
  {
   "cell_type": "markdown",
   "metadata": {},
   "source": [
    "# Project - EDA with Pandas Using the Boston Housing Data\n",
    "\n",
    "## Introduction\n",
    "\n",
    "In this section you've learned a lot about importing, cleaning up, analyzing (using descriptive statistics) and visualizing data. In this a more free form project you'll get a chance to practice all of these skills with the Boston Housing data set, which contains housing values in suburbs of Boston. The Boston Housing Data is commonly used by aspiring data scientists."
   ]
  },
  {
   "cell_type": "code",
   "execution_count": 1,
   "metadata": {},
   "outputs": [],
   "source": [
    "import pandas as pd\n",
    "import numpy as np"
   ]
  },
  {
   "cell_type": "markdown",
   "metadata": {},
   "source": [
    "## Objectives\n",
    "\n",
    "You will be able to:\n",
    "\n",
    "* Load csv files using Pandas\n",
    "* Find variables with high correlation\n",
    "* Create box plots"
   ]
  },
  {
   "cell_type": "markdown",
   "metadata": {},
   "source": [
    "## Goals\n",
    "\n",
    "Use your data munging and visualization skills to conduct an exploratory analysis of the dataset below. At a minimum, this should include:"
   ]
  },
  {
   "cell_type": "markdown",
   "metadata": {},
   "source": [
    "* Loading the data (which is stored in the file `train.csv`)"
   ]
  },
  {
   "cell_type": "code",
   "execution_count": 2,
   "metadata": {},
   "outputs": [],
   "source": [
    "df = pd.read_csv('train.csv')"
   ]
  },
  {
   "cell_type": "markdown",
   "metadata": {},
   "source": [
    "* Use built-in python functions to explore measures of centrality and dispersion for at least 3 variables"
   ]
  },
  {
   "cell_type": "code",
   "execution_count": 3,
   "metadata": {},
   "outputs": [
    {
     "data": {
      "text/plain": [
       "<bound method DataFrame.info of       ID      crim    zn  indus  chas    nox     rm    age     dis  rad  tax  \\\n",
       "0      1   0.00632  18.0   2.31     0  0.538  6.575   65.2  4.0900    1  296   \n",
       "1      2   0.02731   0.0   7.07     0  0.469  6.421   78.9  4.9671    2  242   \n",
       "2      4   0.03237   0.0   2.18     0  0.458  6.998   45.8  6.0622    3  222   \n",
       "3      5   0.06905   0.0   2.18     0  0.458  7.147   54.2  6.0622    3  222   \n",
       "4      7   0.08829  12.5   7.87     0  0.524  6.012   66.6  5.5605    5  311   \n",
       "5     11   0.22489  12.5   7.87     0  0.524  6.377   94.3  6.3467    5  311   \n",
       "6     12   0.11747  12.5   7.87     0  0.524  6.009   82.9  6.2267    5  311   \n",
       "7     13   0.09378  12.5   7.87     0  0.524  5.889   39.0  5.4509    5  311   \n",
       "8     14   0.62976   0.0   8.14     0  0.538  5.949   61.8  4.7075    4  307   \n",
       "9     15   0.63796   0.0   8.14     0  0.538  6.096   84.5  4.4619    4  307   \n",
       "10    16   0.62739   0.0   8.14     0  0.538  5.834   56.5  4.4986    4  307   \n",
       "11    17   1.05393   0.0   8.14     0  0.538  5.935   29.3  4.4986    4  307   \n",
       "12    19   0.80271   0.0   8.14     0  0.538  5.456   36.6  3.7965    4  307   \n",
       "13    21   1.25179   0.0   8.14     0  0.538  5.570   98.1  3.7979    4  307   \n",
       "14    22   0.85204   0.0   8.14     0  0.538  5.965   89.2  4.0123    4  307   \n",
       "15    23   1.23247   0.0   8.14     0  0.538  6.142   91.7  3.9769    4  307   \n",
       "16    24   0.98843   0.0   8.14     0  0.538  5.813  100.0  4.0952    4  307   \n",
       "17    28   0.95577   0.0   8.14     0  0.538  6.047   88.8  4.4534    4  307   \n",
       "18    31   1.13081   0.0   8.14     0  0.538  5.713   94.1  4.2330    4  307   \n",
       "19    32   1.35472   0.0   8.14     0  0.538  6.072  100.0  4.1750    4  307   \n",
       "20    35   1.61282   0.0   8.14     0  0.538  6.096   96.9  3.7598    4  307   \n",
       "21    39   0.17505   0.0   5.96     0  0.499  5.966   30.2  3.8473    5  279   \n",
       "22    40   0.02763  75.0   2.95     0  0.428  6.595   21.8  5.4011    3  252   \n",
       "23    41   0.03359  75.0   2.95     0  0.428  7.024   15.8  5.4011    3  252   \n",
       "24    43   0.14150   0.0   6.91     0  0.448  6.169    6.6  5.7209    3  233   \n",
       "25    44   0.15936   0.0   6.91     0  0.448  6.211    6.5  5.7209    3  233   \n",
       "26    45   0.12269   0.0   6.91     0  0.448  6.069   40.0  5.7209    3  233   \n",
       "27    46   0.17142   0.0   6.91     0  0.448  5.682   33.8  5.1004    3  233   \n",
       "28    47   0.18836   0.0   6.91     0  0.448  5.786   33.3  5.1004    3  233   \n",
       "29    48   0.22927   0.0   6.91     0  0.448  6.030   85.5  5.6894    3  233   \n",
       "..   ...       ...   ...    ...   ...    ...    ...    ...     ...  ...  ...   \n",
       "303  465   7.83932   0.0  18.10     0  0.655  6.209   65.4  2.9634   24  666   \n",
       "304  466   3.16360   0.0  18.10     0  0.655  5.759   48.2  3.0665   24  666   \n",
       "305  467   3.77498   0.0  18.10     0  0.655  5.952   84.7  2.8715   24  666   \n",
       "306  468   4.42228   0.0  18.10     0  0.584  6.003   94.5  2.5403   24  666   \n",
       "307  469  15.57570   0.0  18.10     0  0.580  5.926   71.0  2.9084   24  666   \n",
       "308  470  13.07510   0.0  18.10     0  0.580  5.713   56.7  2.8237   24  666   \n",
       "309  472   4.03841   0.0  18.10     0  0.532  6.229   90.7  3.0993   24  666   \n",
       "310  473   3.56868   0.0  18.10     0  0.580  6.437   75.0  2.8965   24  666   \n",
       "311  475   8.05579   0.0  18.10     0  0.584  5.427   95.4  2.4298   24  666   \n",
       "312  477   4.87141   0.0  18.10     0  0.614  6.484   93.6  2.3053   24  666   \n",
       "313  478  15.02340   0.0  18.10     0  0.614  5.304   97.3  2.1007   24  666   \n",
       "314  479  10.23300   0.0  18.10     0  0.614  6.185   96.7  2.1705   24  666   \n",
       "315  480  14.33370   0.0  18.10     0  0.614  6.229   88.0  1.9512   24  666   \n",
       "316  481   5.82401   0.0  18.10     0  0.532  6.242   64.7  3.4242   24  666   \n",
       "317  482   5.70818   0.0  18.10     0  0.532  6.750   74.9  3.3317   24  666   \n",
       "318  484   2.81838   0.0  18.10     0  0.532  5.762   40.3  4.0983   24  666   \n",
       "319  485   2.37857   0.0  18.10     0  0.583  5.871   41.9  3.7240   24  666   \n",
       "320  487   5.69175   0.0  18.10     0  0.583  6.114   79.8  3.5459   24  666   \n",
       "321  488   4.83567   0.0  18.10     0  0.583  5.905   53.2  3.1523   24  666   \n",
       "322  489   0.15086   0.0  27.74     0  0.609  5.454   92.7  1.8209    4  711   \n",
       "323  491   0.20746   0.0  27.74     0  0.609  5.093   98.0  1.8226    4  711   \n",
       "324  492   0.10574   0.0  27.74     0  0.609  5.983   98.8  1.8681    4  711   \n",
       "325  493   0.11132   0.0  27.74     0  0.609  5.983   83.5  2.1099    4  711   \n",
       "326  494   0.17331   0.0   9.69     0  0.585  5.707   54.0  2.3817    6  391   \n",
       "327  498   0.26838   0.0   9.69     0  0.585  5.794   70.6  2.8927    6  391   \n",
       "328  500   0.17783   0.0   9.69     0  0.585  5.569   73.5  2.3999    6  391   \n",
       "329  502   0.06263   0.0  11.93     0  0.573  6.593   69.1  2.4786    1  273   \n",
       "330  503   0.04527   0.0  11.93     0  0.573  6.120   76.7  2.2875    1  273   \n",
       "331  504   0.06076   0.0  11.93     0  0.573  6.976   91.0  2.1675    1  273   \n",
       "332  506   0.04741   0.0  11.93     0  0.573  6.030   80.8  2.5050    1  273   \n",
       "\n",
       "     ptratio   black  lstat  medv  \n",
       "0       15.3  396.90   4.98  24.0  \n",
       "1       17.8  396.90   9.14  21.6  \n",
       "2       18.7  394.63   2.94  33.4  \n",
       "3       18.7  396.90   5.33  36.2  \n",
       "4       15.2  395.60  12.43  22.9  \n",
       "5       15.2  392.52  20.45  15.0  \n",
       "6       15.2  396.90  13.27  18.9  \n",
       "7       15.2  390.50  15.71  21.7  \n",
       "8       21.0  396.90   8.26  20.4  \n",
       "9       21.0  380.02  10.26  18.2  \n",
       "10      21.0  395.62   8.47  19.9  \n",
       "11      21.0  386.85   6.58  23.1  \n",
       "12      21.0  288.99  11.69  20.2  \n",
       "13      21.0  376.57  21.02  13.6  \n",
       "14      21.0  392.53  13.83  19.6  \n",
       "15      21.0  396.90  18.72  15.2  \n",
       "16      21.0  394.54  19.88  14.5  \n",
       "17      21.0  306.38  17.28  14.8  \n",
       "18      21.0  360.17  22.60  12.7  \n",
       "19      21.0  376.73  13.04  14.5  \n",
       "20      21.0  248.31  20.34  13.5  \n",
       "21      19.2  393.43  10.13  24.7  \n",
       "22      18.3  395.63   4.32  30.8  \n",
       "23      18.3  395.62   1.98  34.9  \n",
       "24      17.9  383.37   5.81  25.3  \n",
       "25      17.9  394.46   7.44  24.7  \n",
       "26      17.9  389.39   9.55  21.2  \n",
       "27      17.9  396.90  10.21  19.3  \n",
       "28      17.9  396.90  14.15  20.0  \n",
       "29      17.9  392.74  18.80  16.6  \n",
       "..       ...     ...    ...   ...  \n",
       "303     20.2  396.90  13.22  21.4  \n",
       "304     20.2  334.40  14.13  19.9  \n",
       "305     20.2   22.01  17.15  19.0  \n",
       "306     20.2  331.29  21.32  19.1  \n",
       "307     20.2  368.74  18.13  19.1  \n",
       "308     20.2  396.90  14.76  20.1  \n",
       "309     20.2  395.33  12.87  19.6  \n",
       "310     20.2  393.37  14.36  23.2  \n",
       "311     20.2  352.58  18.14  13.8  \n",
       "312     20.2  396.21  18.68  16.7  \n",
       "313     20.2  349.48  24.91  12.0  \n",
       "314     20.2  379.70  18.03  14.6  \n",
       "315     20.2  383.32  13.11  21.4  \n",
       "316     20.2  396.90  10.74  23.0  \n",
       "317     20.2  393.07   7.74  23.7  \n",
       "318     20.2  392.92  10.42  21.8  \n",
       "319     20.2  370.73  13.34  20.6  \n",
       "320     20.2  392.68  14.98  19.1  \n",
       "321     20.2  388.22  11.45  20.6  \n",
       "322     20.1  395.09  18.06  15.2  \n",
       "323     20.1  318.43  29.68   8.1  \n",
       "324     20.1  390.11  18.07  13.6  \n",
       "325     20.1  396.90  13.35  20.1  \n",
       "326     19.2  396.90  12.01  21.8  \n",
       "327     19.2  396.90  14.10  18.3  \n",
       "328     19.2  395.77  15.10  17.5  \n",
       "329     21.0  391.99   9.67  22.4  \n",
       "330     21.0  396.90   9.08  20.6  \n",
       "331     21.0  396.90   5.64  23.9  \n",
       "332     21.0  396.90   7.88  11.9  \n",
       "\n",
       "[333 rows x 15 columns]>"
      ]
     },
     "execution_count": 3,
     "metadata": {},
     "output_type": "execute_result"
    }
   ],
   "source": [
    "df.info"
   ]
  },
  {
   "cell_type": "markdown",
   "metadata": {},
   "source": [
    "* Create *meaningful* subsets of the data using selection operations using `.loc`, `.iloc` or related operations. Explain why you used the chosen subsets and do this for 3 possible 2-way splits. State how you think the 2 measures of centrality and/or dispersion might be different for each subset of the data. Examples of potential splits:"
   ]
  },
  {
   "cell_type": "markdown",
   "metadata": {},
   "source": [
    "    - Create a 2 new dataframes based on your existing data, where one contains all the properties next to the Charles river, and the other one contains properties that aren't.\n",
    "    - Create 2 new dataframes based on a certain split for crime rate."
   ]
  },
  {
   "cell_type": "markdown",
   "metadata": {},
   "source": [
    "* Next, use histograms and scatterplots to see whether you observe differences for the subsets of the data. Make sure to use subplots so it is easy to compare the relationships."
   ]
  },
  {
   "cell_type": "markdown",
   "metadata": {},
   "source": [
    "## Variable Descriptions\n",
    "\n",
    "This data frame contains the following columns:\n",
    "\n",
    "#### crim  \n",
    "per capita crime rate by town.\n",
    "\n",
    "#### zn  \n",
    "proportion of residential land zoned for lots over 25,000 sq.ft.\n",
    "\n",
    "#### indus  \n",
    "proportion of non-retail business acres per town.\n",
    "\n",
    "#### chas  \n",
    "Charles River dummy variable (= 1 if tract bounds river; 0 otherwise).\n",
    "\n",
    "#### nox  \n",
    "nitrogen oxides concentration (parts per 10 million).\n",
    "\n",
    "#### rm  \n",
    "average number of rooms per dwelling.\n",
    "\n",
    "#### age  \n",
    "proportion of owner-occupied units built prior to 1940.\n",
    "\n",
    "#### dis  \n",
    "weighted mean of distances to five Boston employment centers.\n",
    "\n",
    "#### rad  \n",
    "index of accessibility to radial highways.\n",
    "\n",
    "#### tax  \n",
    "full-value property-tax rate per $10,000.\n",
    "\n",
    "#### ptratio  \n",
    "pupil-teacher ratio by town.\n",
    "\n",
    "#### black  \n",
    "1000(Bk - 0.63)^2 where Bk is the proportion of blacks by town.\n",
    "\n",
    "#### lstat  \n",
    "lower status of the population (percent).\n",
    "\n",
    "#### medv  \n",
    "median value of owner-occupied homes in $10000s.\n",
    "  \n",
    "  \n",
    "  \n",
    "Source\n",
    "Harrison, D. and Rubinfeld, D.L. (1978) Hedonic prices and the demand for clean air. J. Environ. Economics and Management 5, 81–102.\n",
    "\n",
    "Belsley D.A., Kuh, E. and Welsch, R.E. (1980) Regression Diagnostics. Identifying Influential Data and Sources of Collinearity. New York: Wiley."
   ]
  },
  {
   "cell_type": "markdown",
   "metadata": {},
   "source": [
    "## Summary\n",
    "\n",
    "Congratulations, you've completed your first \"freeform\" exploratory data analysis of a popular data set!"
   ]
  },
  {
   "cell_type": "code",
   "execution_count": null,
   "metadata": {},
   "outputs": [],
   "source": []
  }
 ],
 "metadata": {
  "kernelspec": {
   "display_name": "Python 3",
   "language": "python",
   "name": "python3"
  },
  "language_info": {
   "codemirror_mode": {
    "name": "ipython",
    "version": 3
   },
   "file_extension": ".py",
   "mimetype": "text/x-python",
   "name": "python",
   "nbconvert_exporter": "python",
   "pygments_lexer": "ipython3",
   "version": "3.6.6"
  }
 },
 "nbformat": 4,
 "nbformat_minor": 2
}
